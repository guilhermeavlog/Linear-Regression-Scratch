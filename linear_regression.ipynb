{
  "nbformat": 4,
  "nbformat_minor": 0,
  "metadata": {
    "colab": {
      "provenance": [],
      "authorship_tag": "ABX9TyN5DekUEgOslA2zkwwZ8G4w",
      "include_colab_link": true
    },
    "kernelspec": {
      "name": "python3",
      "display_name": "Python 3"
    },
    "language_info": {
      "name": "python"
    }
  },
  "cells": [
    {
      "cell_type": "markdown",
      "metadata": {
        "id": "view-in-github",
        "colab_type": "text"
      },
      "source": [
        "<a href=\"https://colab.research.google.com/github/guilhermeavlog/Linear-Regression-Scratch/blob/main/linear_regression.ipynb\" target=\"_parent\"><img src=\"https://colab.research.google.com/assets/colab-badge.svg\" alt=\"Open In Colab\"/></a>"
      ]
    },
    {
      "cell_type": "markdown",
      "source": [
        "## **LINEAR REGRESSION FROM SCRATCH**"
      ],
      "metadata": {
        "id": "cTdpF1_rQExi"
      }
    },
    {
      "cell_type": "code",
      "execution_count": null,
      "metadata": {
        "id": "Pd14Jnxs7rK4"
      },
      "outputs": [],
      "source": [
        "import pandas as pd\n",
        "import matplotlib.pyplot as plt\n"
      ]
    },
    {
      "cell_type": "code",
      "source": [
        "data = pd.read_csv('data_lin_reg.csv')"
      ],
      "metadata": {
        "id": "jJwczyRl70XG"
      },
      "execution_count": null,
      "outputs": []
    },
    {
      "cell_type": "code",
      "source": [
        "print(data)"
      ],
      "metadata": {
        "colab": {
          "base_uri": "https://localhost:8080/"
        },
        "id": "AXwFI5fW_ZW0",
        "outputId": "0e2521e8-dfdc-42d3-cb66-b75b981b9031"
      },
      "execution_count": null,
      "outputs": [
        {
          "output_type": "stream",
          "name": "stdout",
          "text": [
            "   study_time  score\n",
            "0        1.50   1.20\n",
            "1        2.70   3.30\n",
            "2        3.30   4.89\n",
            "3        4.50   5.21\n",
            "4        5.76   6.40\n",
            "5        6.90   7.60\n",
            "6        7.20   8.10\n",
            "7        8.15   9.20\n",
            "8        9.91   9.50\n",
            "9       10.13  10.00\n"
          ]
        }
      ]
    },
    {
      "cell_type": "code",
      "source": [
        "plt.scatter(data.study_time, data.score)\n",
        "plt.show()"
      ],
      "metadata": {
        "colab": {
          "base_uri": "https://localhost:8080/",
          "height": 430
        },
        "id": "uIfBzOJV_YkR",
        "outputId": "fbf0be0b-5f73-4a19-ae3b-295c34174517"
      },
      "execution_count": null,
      "outputs": [
        {
          "output_type": "display_data",
          "data": {
            "text/plain": [
              "<Figure size 640x480 with 1 Axes>"
            ],
            "image/png": "[encoded data removed]"
          },
          "metadata": {}
        }
      ]
    },
    {
      "cell_type": "code",
      "source": [
        "def loss_function(m, b, points):\n",
        "  total_error = 0\n",
        "  for i in range(len(points)):\n",
        "    x = points.iloc[i].study_time\n",
        "    y = points.iloc[i].score\n",
        "    total_error += (y - (m * x + b)) ** 2\n",
        "  return total_error / float(len(points))"
      ],
      "metadata": {
        "id": "wx7XWUz2_kZL"
      },
      "execution_count": null,
      "outputs": []
    },
    {
      "cell_type": "code",
      "source": [
        "def gradient_descent(m_now, b_now, points, L):\n",
        "  m_gradient = 0\n",
        "  b_gradient = 0\n",
        "  n = len(points)\n",
        "\n",
        "  for i in range(n):\n",
        "    x = points.iloc[i].study_time\n",
        "    y = points.iloc[i].score\n",
        "\n",
        "    m_gradient += -(2/n) * x * (y - (m_now * x + b_now))\n",
        "    b_gradient += -(2/n) * (y - (m_now * x + b_now))\n",
        "\n",
        "  m = m_now - (m_gradient * L)\n",
        "  b = b_now - (b_gradient * L)\n",
        "\n",
        "  return m, b"
      ],
      "metadata": {
        "id": "BWuTmVfvLbs8"
      },
      "execution_count": null,
      "outputs": []
    },
    {
      "cell_type": "markdown",
      "source": [
        "### **TEST**"
      ],
      "metadata": {
        "id": "8VDin8rcQTGj"
      }
    },
    {
      "cell_type": "code",
      "source": [
        "m, b, L, epochs = 0, 0, 0.0001, 1000\n",
        "\n",
        "for i in range(epochs):\n",
        "  m, b = gradient_descent(m, b, data, L)\n",
        "\n",
        "print(m, b)\n",
        "\n",
        "plt.scatter(data.study_time, data.score, color=\"black\")\n",
        "plt.plot(list(range(0,10)), [m*x+b for x in range(0,10)], color=\"red\")\n",
        "plt.show()\n"
      ],
      "metadata": {
        "colab": {
          "base_uri": "https://localhost:8080/",
          "height": 447
        },
        "id": "8Y8mucqzNgQ-",
        "outputId": "3ad65bfc-7fac-4ff0-eae4-93b2cbd7500b"
      },
      "execution_count": null,
      "outputs": [
        {
          "output_type": "stream",
          "name": "stdout",
          "text": [
            "1.040425130883823 0.1680012611653714\n"
          ]
        },
        {
          "output_type": "display_data",
          "data": {
            "text/plain": [
              "<Figure size 640x480 with 1 Axes>"
            ],
            "image/png": "[encoded data removed]"
          },
          "metadata": {}
        }
      ]
    },
    {
      "cell_type": "code",
      "source": [],
      "metadata": {
        "id": "UBwEAia8ORCO"
      },
      "execution_count": null,
      "outputs": []
    }
  ]
}